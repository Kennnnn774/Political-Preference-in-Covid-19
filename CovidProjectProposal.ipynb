{
 "cells": [
  {
   "cell_type": "markdown",
   "metadata": {},
   "source": [
    "# Project Proposal"
   ]
  },
  {
   "cell_type": "markdown",
   "metadata": {},
   "source": [
    "# Research Question"
   ]
  },
  {
   "cell_type": "markdown",
   "metadata": {},
   "source": [
    "How does the political preference in each county affect the increasing rate of COVID positive cases in counties of the US?"
   ]
  },
  {
   "cell_type": "markdown",
   "metadata": {},
   "source": [
    "## Background and Prior Work"
   ]
  },
  {
   "cell_type": "markdown",
   "metadata": {},
   "source": [
    "2020 is a year to remember. The outbreak of COVID-19 has made it a challenging and tough time for almost everyone. Just a few months after coronavirus broke out in Wuhan, it suddenly spread across every state in the United States without warning. In February 2020, Trump made a claim that the COVID-19 would go away in April as heat came, but it did not and the United States now has the most number of positive cases of COVID-19 [4]. The United States has two major political parties: Republicans and Democrats. If we consider Trump as a leader of the Republicans, his claims that the pandemic will go away and message of “don’t be afraid of the COVID-19” differs from Democratic governors who take the pandemic more seriously and have more strict public health orders. Our group chose a question related to COVID-19 and political preferences because we are curious about whether different political beliefs affect the infection rate of the COVID-19 and how they would influence the epidemic. \n",
    "\n",
    "The measures and recommendations suggested by the government have been controversial. Especially regarding concerns about wearing masks in public, Democrats are about twice as likely as republicans to say that masks are necessary and should always be worn [5]. In addition, social distancing has been proved as the most effective way to stop the spread of COVID-19. However, compliance with such order differs in different political parties as well. We learned from a research that democratic countries respond more to social distancing orders and increase the proportion of online spending [3]. Partisan’s perspectives about the trend of the coronavirus as well as their concerns about coronavirus have also diverged over the past few months. Among republicans, the percentage who are concerned about COVID-19 has decreased from 47% in April to 35% in June [5]. While among Democrats, concerns about catching and the spreading of coronavirus has been relatively unchanged, fluctuating around 64% [5]. This finding coincides with a figure in Reference [2]. The figure shows that people from different political parties differ a lot in attitudes and behaviors towards COVID-19. In general, democrats are more worried about coronavirus and are more complied with public health orders.\n",
    "\n",
    "Although most virus cases came from states run by Democratic governors such as New York and California in March and April, the number of new cases in Republican states now have outnumbered those of Democratic states. For example, on June 28th, the proportion of new coronavirus infections of Republican states was 62.9%, while it was 37.1% in Democratic states [1]. Moreover, based on John Hopkins University’s COVID-19 tracking project’s data on October 22, 2020, the percent of positive is 2.6% in California but it is 8.3% in Texas. This data clearly shows that different political preference affects the infection rate of coronavirus in the United States. According to John Hopkins University’s COVID-19 tracking project, states with Republican governors have seen a continued increase in the overall share of COVID-19 related death cases. While states with Democratic governors, it is evident that death cases dropped over time even though democratic states had a higher COVID cases in the beginning of the breakout [1]. Therefore, there is a notable correlation between public health outcomes and the policies governors have advocated [1]. \n",
    "\n",
    "COVID-19 significantly affects everyone in different ways, not limited to social lifes, economic standings, and especially academic environment and learning experiences for us students. As most universities move to online and remote teaching through zoom, social contact and face to face interactions in classrooms are minimized to the greatest extent. During this time, the government has addressed many proposals influencing our academic lives even more, especially creating more challenges for international students. Politics and political decisions eventually catch people’s attention, making people realize how politics can undoubtedly change our lives and future. It is important to recognize the correlations between political preferences and its impact on the rising COVID-19 cases. Coronavirus is indeed one of the most prevalent factors that has inevitably changed our daily lives while politics ultimately decides our future and the trend of COVID-19. Therefore, we find the correlation between these two significant enough for us to dive further into research.  \n",
    "\n",
    "References (include links):\n",
    "- 1)Coronavirus’ spread in GOP territory , explained in 6 charts: https://apnews.com/article/7aa2fcf7955333834e01a7f9217c77d2\n",
    "- 2)Politics is wrecking America’s pandemic response: https://www.brookings.edu/blog/up-front/2020/09/17/politics-is-wrecking-americas-pandemic-response/\n",
    "- 3)Political Beliefs affect Compliance with COVID-19 Social Distancing Orders: https://papers.ssrn.com/sol3/papers.cfm?abstract_id=3569098 \n",
    "- 4)A timeline of Trump's claims that Covid-19 will vanish: https://www.cnn.com/interactive/2020/10/politics/covid-disappearing-trump-comment-tracker/\n",
    "- 5)Republicans, Democrats Move Even Further Apart in Coronavirus Concerns: \n",
    "https://www.pewresearch.org/politics/2020/06/25/republicans-democrats-move-even-further-apart-in-coronavirus-concerns/ \n"
   ]
  },
  {
   "cell_type": "markdown",
   "metadata": {},
   "source": [
    "# Hypothesis\n"
   ]
  },
  {
   "cell_type": "markdown",
   "metadata": {},
   "source": [
    "Our hypothesis to the question is that how the political preference in each county affects the increasing rate of COVID-19 in the U.S. The U.S has two dominant parties in government to help and create peace and order, therefore they also have different attitudes toward the COVID-19 situation. To be specific, our hypothesis assumes that counties that support the republican party and President Trump are more likely to have a higher increasing rate of COVID in the U.S. Since the Covid started spreading in the U.S, President Trump and the Republican party held over positive attitude to the situation and refused to take any procedures such as process quarantine system because it would cause the instability of the economic market in the U.S. Moreover, President Trump criticized the measurement of the virus and used freedom and the constitution as excuses. Therefore, the followers of the Republican party have a low participation rate in stopping the spread of COVID-19 by comparing the followers of the democrat party such as wearing masks. Our group members come with this specific hypothesis not only from the experience but also from the research (See the background research). From our past experience, our group members witness that people have different public perceptions of coronavirus facts in response to the two parties. Our group will analyze the U.S president election data in 2016 and the globe coronavirus report. Although the coronavirus data is not only focused on the U.S, we can use other countries as a guide and furthermore analyze the situation. We hope to find a correlation between political preference and the increasing rate of corona cases. \n"
   ]
  },
  {
   "cell_type": "markdown",
   "metadata": {},
   "source": [
    "# Data"
   ]
  },
  {
   "cell_type": "markdown",
   "metadata": {},
   "source": [
    "Potential dataset:\n",
    "\n",
    "https://www.kaggle.com/benhamner/2016-us-election?select=primary_results.csv\n",
    "\n",
    "https://www.kaggle.com/imdevskp/corona-virus-report?select=usa_county_wise.csv\n",
    "\n",
    "\n",
    "Information of the political reference:\n",
    "\n",
    "We use the result of the 2016 US Election vote to measure the political preference of each county in America. An ideal data set should include at least two variables, `county name` and `the party which wins the county`. It will tell us whether a county potentially follows the order from President Trump, who was a Republican candidate. Entries of the column `county name` are expected to be stored as strings; entries of the column `party` can be stored as strings, ‘Republican’ and ‘Democrat’, or they can be converted to integers 0 and 1 later for convenient manipulation. Obviously, each county will take a row, so the number of observations will be equal to the total number of counties.\n",
    "\n",
    "Information of the increasing trend of COVID-19 positive cases:\n",
    "\n",
    "In order to test the hypothesis, we need information about the epidemic situation throughout the US. To evaluate the performance of fighting coronavirus, we need our dataset to include `county name`, `date`, `number of confirmed cases`, `number of deaths` and other variables that might relate to our goal. We can use these mentioned variables to calculate the increasing rate in a period of time for each county, and a low increasing rate means a better performance of a county. Entries of the column `county name` are still expected to store as strings; entries of `date` can either be stored as integers, representing the length of time, or as date objects; two columns recording the number of cases should be stored as integers. Again, each county will take a row, so the number of observations will be equal to the total number of counties.\n",
    "\n",
    "We can merge two datasets by the column `county` into one single DataFrame. Then the number of observations will keep the same, which is equivalent to the number of counties in the United States. Each observation will tell us about the information about both the 2016 election result and the current epidemic situation in a unique county."
   ]
  },
  {
   "cell_type": "markdown",
   "metadata": {},
   "source": [
    "# Ethics & Privacy"
   ]
  },
  {
   "cell_type": "markdown",
   "metadata": {},
   "source": [
    "COVID-19 and political preferences are two important topics in 2020, and we are clearly aware of the sensitivity around these issues. Therefore, it is important for us to approach the entire process of this research project with a heart full of respect for privacy and consent. We will try our best to prevent any harm to society. We as a team discussed the “nine things to consider to not ruin people’s lives with data science” which was presented in class to guide us to be more mindful of ethics and privacy. More specifically, we will address a few important points down below.\n",
    "\n",
    "**The question**: for the actual research question, we want to be as inclusive as possible. Initially, we considered only looking at COVID-19 reports in each state and their people’s political preferences. However, later we thought we should narrow down our investigation scope to each county in the US in order to obtain a more detailed and diverse dataset.\n",
    "\n",
    "**The implication**: our intended purpose for this project is to provide a honest report on how American politics shape the outbreak of COVID-19. We want to benefit the common people with an unbiased point of view towards the government and their actions on defeating COVID-19, since news online can be highly untrue. However, we do acknowledge that there are unintended consequences that could happen. People with strong political opinions might use the results of this project as a political weapon to target people who have different political opinions than them. Therefore, we wish that the project results could stay in the scope of COGS108 class. If the end results of the project were really extreme, we can privatize the entire project after grading is done. \n",
    "\n",
    "**The data**: we will mainly focus our dataset search in Kaggle and other government websites to obtain the most valid and reliable information. There are plenty of COVID-19 and politics related data out there on the web. Therefore, we are confident that we have enough data to implement meaningful research. One bias might occur in the data is that early in the COVID-19 outbreak, not everyone had the equal access to get tested. Testing and treatment are still not accessible for a lot of people. These can vary largely in incoming level, educational levels and living conditions. Therefore, we might need more county data to mitigate the issue. In the end, we will properly address any potential bias in our research and eliminate as much pre-existing bias as possible.\n",
    "\n",
    "**Privacy**: the ideal data we are using for this project should not contain any personal information of the participants. All the data related to COVID-19 and political preference should be compiled in a format that all the patients’ name, gender, age and address are excluded from the dataset. Therefore, the final report does not leak any important personal information to the public. We, as the research team, will not obtain any people’s private information either.\n",
    "\n",
    "**Analysis**: during the analysis process, we will be extra careful about drawing any non-sufficient causation between any variables. We acknowledge the fact that people have an urge to dig for one specific answer, however, as data scientists we need to learn how to be comfortable with staying in the gray area. We promise to try our best to do scientific research based purely on the dataset itself without adding any personal pre-existing bias towards the research topic.\n"
   ]
  }
 ],
 "metadata": {
  "kernelspec": {
   "display_name": "Python 3",
   "language": "python",
   "name": "python3"
  },
  "language_info": {
   "codemirror_mode": {
    "name": "ipython",
    "version": 3
   },
   "file_extension": ".py",
   "mimetype": "text/x-python",
   "name": "python",
   "nbconvert_exporter": "python",
   "pygments_lexer": "ipython3",
   "version": "3.7.6"
  }
 },
 "nbformat": 4,
 "nbformat_minor": 2
}
